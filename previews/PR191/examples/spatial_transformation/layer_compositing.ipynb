{
 "cells": [
  {
   "cell_type": "markdown",
   "source": [
    "This demonstration shows how the layer version [alpha compositing](https://en.wikipedia.org/wiki/Alpha_compositing)\n",
    "can be done in 10 lines of code using\n",
    "[OffsetArrays](https://github.com/JuliaArrays/OffsetArrays.jl) and\n",
    "[PaddedViews](https://github.com/JuliaArrays/PaddedViews.jl).\n",
    "If you are looking for more well-organized utilities, [ColorBlendModes](https://github.com/kimikage/ColorBlendModes.jl)\n",
    "provides the definitions and compositing operations of the blend modes."
   ],
   "metadata": {}
  },
  {
   "outputs": [],
   "cell_type": "code",
   "source": [
    "using Images\n",
    "using OffsetArrays # provide `OffsetArray`"
   ],
   "metadata": {},
   "execution_count": 1
  },
  {
   "cell_type": "markdown",
   "source": [
    "## 1. basic offset and pad operation"
   ],
   "metadata": {}
  },
  {
   "cell_type": "markdown",
   "source": [
    "Assume that we have two objects with transparent color and we want to place them on a canvas\n",
    "with partially overlapping."
   ],
   "metadata": {}
  },
  {
   "outputs": [
    {
     "output_type": "execute_result",
     "data": {
      "text/plain": "32×84 MosaicView{RGBA{Float64}, 4, Base.ReshapedArray{RGBA{Float64}, 4, PaddedView{RGBA{Float64}, 3, Tuple{Base.OneTo{Int64}, Base.OneTo{Int64}, Base.OneTo{Int64}}, StackViews.StackView{RGBA{Float64}, 3, 3, Tuple{OffsetArrays.OffsetMatrix{RGBA{Float64}, PaddedView{RGBA{Float64}, 2, Tuple{UnitRange{Int64}, UnitRange{Int64}}, Matrix{RGBA{Float64}}}}, OffsetArrays.OffsetMatrix{RGBA{Float64}, PaddedView{RGBA{Float64}, 2, Tuple{UnitRange{Int64}, UnitRange{Int64}}, Matrix{RGBA{Float64}}}}}}}, Tuple{Base.MultiplicativeInverses.SignedMultiplicativeInverse{Int64}, Base.MultiplicativeInverses.SignedMultiplicativeInverse{Int64}}}}:\n RGBA{Float64}(1.0,1.0,1.0,1.0)  …  RGBA{Float64}(0.0,1.0,0.0,1.0)\n RGBA{Float64}(1.0,1.0,1.0,1.0)     RGBA{Float64}(0.0,1.0,0.0,1.0)\n RGBA{Float64}(1.0,1.0,1.0,1.0)     RGBA{Float64}(0.0,1.0,0.0,1.0)\n RGBA{Float64}(1.0,1.0,1.0,1.0)     RGBA{Float64}(0.0,1.0,0.0,1.0)\n RGBA{Float64}(1.0,1.0,1.0,1.0)     RGBA{Float64}(0.0,1.0,0.0,1.0)\n RGBA{Float64}(1.0,1.0,1.0,1.0)  …  RGBA{Float64}(0.0,1.0,0.0,1.0)\n RGBA{Float64}(1.0,1.0,1.0,1.0)     RGBA{Float64}(0.0,1.0,0.0,1.0)\n RGBA{Float64}(1.0,1.0,1.0,1.0)     RGBA{Float64}(0.0,1.0,0.0,1.0)\n RGBA{Float64}(1.0,1.0,1.0,1.0)     RGBA{Float64}(0.0,1.0,0.0,1.0)\n RGBA{Float64}(1.0,1.0,1.0,1.0)     RGBA{Float64}(0.0,1.0,0.0,1.0)\n ⋮                               ⋱  \n RGBA{Float64}(1.0,1.0,1.0,1.0)     RGBA{Float64}(0.0,1.0,0.0,1.0)\n RGBA{Float64}(1.0,1.0,1.0,1.0)     RGBA{Float64}(0.0,1.0,0.0,1.0)\n RGBA{Float64}(1.0,1.0,1.0,1.0)  …  RGBA{Float64}(0.0,1.0,0.0,1.0)\n RGBA{Float64}(1.0,1.0,1.0,1.0)     RGBA{Float64}(0.0,1.0,0.0,1.0)\n RGBA{Float64}(1.0,1.0,1.0,1.0)     RGBA{Float64}(0.0,1.0,0.0,1.0)\n RGBA{Float64}(1.0,1.0,1.0,1.0)     RGBA{Float64}(0.0,1.0,0.0,1.0)\n RGBA{Float64}(1.0,1.0,1.0,1.0)     RGBA{Float64}(0.0,1.0,0.0,1.0)\n RGBA{Float64}(1.0,1.0,1.0,1.0)  …  RGBA{Float64}(0.0,1.0,0.0,1.0)\n RGBA{Float64}(1.0,1.0,1.0,1.0)     RGBA{Float64}(0.0,1.0,0.0,1.0)",
      "image/png": "[encoded data removed]"
     },
     "metadata": {},
     "execution_count": 2
    }
   ],
   "cell_type": "code",
   "source": [
    "red_patch = fill(RGBA(1., 0., 0., 1), 24, 24)\n",
    "green_patch = fill(RGBA(0., 1., 0., 1), 32, 32)\n",
    "mosaicview(red_patch, green_patch; npad=20, nrow=1, fillvalue=colorant\"white\")"
   ],
   "metadata": {},
   "execution_count": 2
  },
  {
   "cell_type": "markdown",
   "source": [
    "Assume the canvas axes starts from `(1, 1)`, here we keep the red patch unshifted,\n",
    "and shift the green patch 6 pixels downward and 16 pixels rightward, and then\n",
    "pad them to a common axes"
   ],
   "metadata": {}
  },
  {
   "outputs": [
    {
     "output_type": "execute_result",
     "data": {
      "text/plain": "38×116 MosaicView{RGBA{Float64}, 4, Base.ReshapedArray{RGBA{Float64}, 4, PaddedView{RGBA{Float64}, 3, Tuple{Base.OneTo{Int64}, Base.OneTo{Int64}, Base.OneTo{Int64}}, StackViews.StackView{RGBA{Float64}, 3, 3, Tuple{OffsetArrays.OffsetMatrix{RGBA{Float64}, PaddedView{RGBA{Float64}, 2, Tuple{UnitRange{Int64}, UnitRange{Int64}}, PaddedView{RGBA{Float64}, 2, Tuple{UnitRange{Int64}, UnitRange{Int64}}, Matrix{RGBA{Float64}}}}}, OffsetArrays.OffsetMatrix{RGBA{Float64}, PaddedView{RGBA{Float64}, 2, Tuple{UnitRange{Int64}, UnitRange{Int64}}, PaddedView{RGBA{Float64}, 2, Tuple{UnitRange{Int64}, UnitRange{Int64}}, OffsetArrays.OffsetMatrix{RGBA{Float64}, Matrix{RGBA{Float64}}}}}}}}}, Tuple{Base.MultiplicativeInverses.SignedMultiplicativeInverse{Int64}, Base.MultiplicativeInverses.SignedMultiplicativeInverse{Int64}}}}:\n RGBA{Float64}(1.0,0.0,0.0,1.0)  …  RGBA{Float64}(0.2,0.2,0.2,1.0)\n RGBA{Float64}(1.0,0.0,0.0,1.0)     RGBA{Float64}(0.2,0.2,0.2,1.0)\n RGBA{Float64}(1.0,0.0,0.0,1.0)     RGBA{Float64}(0.2,0.2,0.2,1.0)\n RGBA{Float64}(1.0,0.0,0.0,1.0)     RGBA{Float64}(0.2,0.2,0.2,1.0)\n RGBA{Float64}(1.0,0.0,0.0,1.0)     RGBA{Float64}(0.2,0.2,0.2,1.0)\n RGBA{Float64}(1.0,0.0,0.0,1.0)  …  RGBA{Float64}(0.2,0.2,0.2,1.0)\n RGBA{Float64}(1.0,0.0,0.0,1.0)     RGBA{Float64}(0.0,1.0,0.0,1.0)\n RGBA{Float64}(1.0,0.0,0.0,1.0)     RGBA{Float64}(0.0,1.0,0.0,1.0)\n RGBA{Float64}(1.0,0.0,0.0,1.0)     RGBA{Float64}(0.0,1.0,0.0,1.0)\n RGBA{Float64}(1.0,0.0,0.0,1.0)     RGBA{Float64}(0.0,1.0,0.0,1.0)\n ⋮                               ⋱  ⋮\n RGBA{Float64}(0.2,0.2,0.2,1.0)     RGBA{Float64}(0.0,1.0,0.0,1.0)\n RGBA{Float64}(0.2,0.2,0.2,1.0)  …  RGBA{Float64}(0.0,1.0,0.0,1.0)\n RGBA{Float64}(0.2,0.2,0.2,1.0)     RGBA{Float64}(0.0,1.0,0.0,1.0)\n RGBA{Float64}(0.2,0.2,0.2,1.0)     RGBA{Float64}(0.0,1.0,0.0,1.0)\n RGBA{Float64}(0.2,0.2,0.2,1.0)     RGBA{Float64}(0.0,1.0,0.0,1.0)\n RGBA{Float64}(0.2,0.2,0.2,1.0)     RGBA{Float64}(0.0,1.0,0.0,1.0)\n RGBA{Float64}(0.2,0.2,0.2,1.0)  …  RGBA{Float64}(0.0,1.0,0.0,1.0)\n RGBA{Float64}(0.2,0.2,0.2,1.0)     RGBA{Float64}(0.0,1.0,0.0,1.0)\n RGBA{Float64}(0.2,0.2,0.2,1.0)     RGBA{Float64}(0.0,1.0,0.0,1.0)",
      "image/png": "[encoded data removed]"
     },
     "metadata": {},
     "execution_count": 3
    }
   ],
   "cell_type": "code",
   "source": [
    "green_o = OffsetArray(green_patch, 6, 16)\n",
    "r, g = paddedviews(Gray(0.2), red_patch, green_o)\n",
    "mosaicview(r, g; npad=20, nrow=1, fillvalue=colorant\"white\")"
   ],
   "metadata": {},
   "execution_count": 3
  },
  {
   "cell_type": "markdown",
   "source": [
    "Note that their axes and sizes are changed after shifting and padding:"
   ],
   "metadata": {}
  },
  {
   "outputs": [
    {
     "name": "stdout",
     "output_type": "stream",
     "text": [
      "before shifting -- size: (32, 32) axes: (Base.OneTo(32), Base.OneTo(32))\n",
      "after shifting  -- size: (32, 32) axes: (OffsetArrays.IdOffsetRange(values=7:38, indices=7:38), OffsetArrays.IdOffsetRange(values=17:48, indices=17:48))\n",
      "after padding   -- size: (38, 48) axes: (1:38, 1:48)\n"
     ]
    }
   ],
   "cell_type": "code",
   "source": [
    "# Regardless of implementaion details, `Base.OneTo(32)` is mostly equivalent to `1:32`\n",
    "println(\"before shifting -- size: \", size(green_patch), \" axes: \", axes(green_patch))\n",
    "println(\"after shifting  -- size: \", size(green_o), \" axes: \", axes(green_o))\n",
    "println(\"after padding   -- size: \", size(g), \" axes: \", axes(g))"
   ],
   "metadata": {},
   "execution_count": 4
  },
  {
   "cell_type": "markdown",
   "source": [
    "Axes are preserved after padding, which means you can easily get original image from\n",
    "padded results using"
   ],
   "metadata": {}
  },
  {
   "outputs": [
    {
     "output_type": "execute_result",
     "data": {
      "text/plain": "32×32 OffsetArray(::Array{RGBA{Float64},2}, 7:38, 17:48) with eltype RGBA{Float64} with indices 7:38×17:48:\n RGBA{Float64}(0.0,1.0,0.0,1.0)  …  RGBA{Float64}(0.0,1.0,0.0,1.0)\n RGBA{Float64}(0.0,1.0,0.0,1.0)     RGBA{Float64}(0.0,1.0,0.0,1.0)\n RGBA{Float64}(0.0,1.0,0.0,1.0)     RGBA{Float64}(0.0,1.0,0.0,1.0)\n RGBA{Float64}(0.0,1.0,0.0,1.0)     RGBA{Float64}(0.0,1.0,0.0,1.0)\n RGBA{Float64}(0.0,1.0,0.0,1.0)     RGBA{Float64}(0.0,1.0,0.0,1.0)\n RGBA{Float64}(0.0,1.0,0.0,1.0)  …  RGBA{Float64}(0.0,1.0,0.0,1.0)\n RGBA{Float64}(0.0,1.0,0.0,1.0)     RGBA{Float64}(0.0,1.0,0.0,1.0)\n RGBA{Float64}(0.0,1.0,0.0,1.0)     RGBA{Float64}(0.0,1.0,0.0,1.0)\n RGBA{Float64}(0.0,1.0,0.0,1.0)     RGBA{Float64}(0.0,1.0,0.0,1.0)\n RGBA{Float64}(0.0,1.0,0.0,1.0)     RGBA{Float64}(0.0,1.0,0.0,1.0)\n ⋮                               ⋱  \n RGBA{Float64}(0.0,1.0,0.0,1.0)     RGBA{Float64}(0.0,1.0,0.0,1.0)\n RGBA{Float64}(0.0,1.0,0.0,1.0)     RGBA{Float64}(0.0,1.0,0.0,1.0)\n RGBA{Float64}(0.0,1.0,0.0,1.0)  …  RGBA{Float64}(0.0,1.0,0.0,1.0)\n RGBA{Float64}(0.0,1.0,0.0,1.0)     RGBA{Float64}(0.0,1.0,0.0,1.0)\n RGBA{Float64}(0.0,1.0,0.0,1.0)     RGBA{Float64}(0.0,1.0,0.0,1.0)\n RGBA{Float64}(0.0,1.0,0.0,1.0)     RGBA{Float64}(0.0,1.0,0.0,1.0)\n RGBA{Float64}(0.0,1.0,0.0,1.0)     RGBA{Float64}(0.0,1.0,0.0,1.0)\n RGBA{Float64}(0.0,1.0,0.0,1.0)  …  RGBA{Float64}(0.0,1.0,0.0,1.0)\n RGBA{Float64}(0.0,1.0,0.0,1.0)     RGBA{Float64}(0.0,1.0,0.0,1.0)",
      "image/png": "[encoded data removed]"
     },
     "metadata": {},
     "execution_count": 5
    }
   ],
   "cell_type": "code",
   "source": [
    "r[axes(red_patch)...]\n",
    "g[axes(green_o)...]"
   ],
   "metadata": {},
   "execution_count": 5
  },
  {
   "cell_type": "markdown",
   "source": [
    "As described [here](https://en.wikipedia.org/wiki/Alpha_compositing), there are several compositing\n",
    "methods:"
   ],
   "metadata": {}
  },
  {
   "outputs": [
    {
     "output_type": "execute_result",
     "data": {
      "text/plain": "38×252 MosaicView{RGBA{Float64}, 4, Base.ReshapedArray{RGBA{Float64}, 4, PaddedView{RGBA{Float64}, 3, Tuple{Base.OneTo{Int64}, Base.OneTo{Int64}, Base.OneTo{Int64}}, StackViews.StackView{RGBA{Float64}, 3, 3, NTuple{4, OffsetArrays.OffsetMatrix{RGBA{Float64}, PaddedView{RGBA{Float64}, 2, Tuple{UnitRange{Int64}, UnitRange{Int64}}, OffsetArrays.OffsetMatrix{RGBA{Float64}, Matrix{RGBA{Float64}}}}}}}}, Tuple{Base.MultiplicativeInverses.SignedMultiplicativeInverse{Int64}, Base.MultiplicativeInverses.SignedMultiplicativeInverse{Int64}}}}:\n RGBA{Float64}(1.2,0.2,0.2,2.0)  …  RGBA{Float64}(0.2,0.2,0.2,1.0)\n RGBA{Float64}(1.2,0.2,0.2,2.0)     RGBA{Float64}(0.2,0.2,0.2,1.0)\n RGBA{Float64}(1.2,0.2,0.2,2.0)     RGBA{Float64}(0.2,0.2,0.2,1.0)\n RGBA{Float64}(1.2,0.2,0.2,2.0)     RGBA{Float64}(0.2,0.2,0.2,1.0)\n RGBA{Float64}(1.2,0.2,0.2,2.0)     RGBA{Float64}(0.2,0.2,0.2,1.0)\n RGBA{Float64}(1.2,0.2,0.2,2.0)  …  RGBA{Float64}(0.2,0.2,0.2,1.0)\n RGBA{Float64}(1.2,0.2,0.2,2.0)     RGBA{Float64}(0.0,1.0,0.0,1.0)\n RGBA{Float64}(1.2,0.2,0.2,2.0)     RGBA{Float64}(0.0,1.0,0.0,1.0)\n RGBA{Float64}(1.2,0.2,0.2,2.0)     RGBA{Float64}(0.0,1.0,0.0,1.0)\n RGBA{Float64}(1.2,0.2,0.2,2.0)     RGBA{Float64}(0.0,1.0,0.0,1.0)\n ⋮                               ⋱  \n RGBA{Float64}(0.4,0.4,0.4,2.0)     RGBA{Float64}(0.0,1.0,0.0,1.0)\n RGBA{Float64}(0.4,0.4,0.4,2.0)  …  RGBA{Float64}(0.0,1.0,0.0,1.0)\n RGBA{Float64}(0.4,0.4,0.4,2.0)     RGBA{Float64}(0.0,1.0,0.0,1.0)\n RGBA{Float64}(0.4,0.4,0.4,2.0)     RGBA{Float64}(0.0,1.0,0.0,1.0)\n RGBA{Float64}(0.4,0.4,0.4,2.0)     RGBA{Float64}(0.0,1.0,0.0,1.0)\n RGBA{Float64}(0.4,0.4,0.4,2.0)     RGBA{Float64}(0.0,1.0,0.0,1.0)\n RGBA{Float64}(0.4,0.4,0.4,2.0)  …  RGBA{Float64}(0.0,1.0,0.0,1.0)\n RGBA{Float64}(0.4,0.4,0.4,2.0)     RGBA{Float64}(0.0,1.0,0.0,1.0)\n RGBA{Float64}(0.4,0.4,0.4,2.0)     RGBA{Float64}(0.0,1.0,0.0,1.0)",
      "image/png": "[encoded data removed]"
     },
     "metadata": {},
     "execution_count": 6
    }
   ],
   "cell_type": "code",
   "source": [
    "# add operation\n",
    "out_add = r .+ g\n",
    "\n",
    "# clear operation\n",
    "out_clear = copy(r)\n",
    "out_clear[axes(green_o)...] .= colorant\"black\"\n",
    "\n",
    "# multiply operation\n",
    "out_mul = copy(r)\n",
    "# channel-wise multiplication\n",
    "channelview(out_mul)[:, axes(green_o)...] .*= channelview(green_o)\n",
    "\n",
    "# overlap operation\n",
    "out_over = copy(r)\n",
    "out_over[axes(green_o)...] .= green_o\n",
    "\n",
    "# display the results of these operation\n",
    "mosaicview(out_add, out_clear, out_mul, out_over;\n",
    "           npad=20, nrow=1, fillvalue=colorant\"white\")"
   ],
   "metadata": {},
   "execution_count": 6
  },
  {
   "cell_type": "markdown",
   "source": [
    "## 2. build the three-primary color panel"
   ],
   "metadata": {}
  },
  {
   "cell_type": "markdown",
   "source": [
    "Now, let's use the same trick to build something more meaningful.\n",
    "First we create three circles with colors red, green and blue"
   ],
   "metadata": {}
  },
  {
   "outputs": [
    {
     "output_type": "execute_result",
     "data": {
      "text/plain": "256×768 MosaicView{ARGB{Float64}, 4, Base.ReshapedArray{ARGB{Float64}, 4, PaddedView{ARGB{Float64}, 3, Tuple{Base.OneTo{Int64}, Base.OneTo{Int64}, Base.OneTo{Int64}}, StackViews.StackView{ARGB{Float64}, 3, 3, Tuple{OffsetArrays.OffsetMatrix{ARGB{Float64}, PaddedView{ARGB{Float64}, 2, Tuple{UnitRange{Int64}, UnitRange{Int64}}, Matrix{ARGB{Float64}}}}, OffsetArrays.OffsetMatrix{ARGB{Float64}, PaddedView{ARGB{Float64}, 2, Tuple{UnitRange{Int64}, UnitRange{Int64}}, Matrix{ARGB{Float64}}}}, OffsetArrays.OffsetMatrix{ARGB{Float64}, PaddedView{ARGB{Float64}, 2, Tuple{UnitRange{Int64}, UnitRange{Int64}}, Matrix{ARGB{Float64}}}}}}}, Tuple{Base.MultiplicativeInverses.SignedMultiplicativeInverse{Int64}, Base.MultiplicativeInverses.SignedMultiplicativeInverse{Int64}}}}:\n ARGB{Float64}(0.0,0.0,0.0,0.0)  …  ARGB{Float64}(0.0,0.0,0.0,0.0)\n ARGB{Float64}(0.0,0.0,0.0,0.0)     ARGB{Float64}(0.0,0.0,0.0,0.0)\n ARGB{Float64}(0.0,0.0,0.0,0.0)     ARGB{Float64}(0.0,0.0,0.0,0.0)\n ARGB{Float64}(0.0,0.0,0.0,0.0)     ARGB{Float64}(0.0,0.0,0.0,0.0)\n ARGB{Float64}(0.0,0.0,0.0,0.0)     ARGB{Float64}(0.0,0.0,0.0,0.0)\n ARGB{Float64}(0.0,0.0,0.0,0.0)  …  ARGB{Float64}(0.0,0.0,0.0,0.0)\n ARGB{Float64}(0.0,0.0,0.0,0.0)     ARGB{Float64}(0.0,0.0,0.0,0.0)\n ARGB{Float64}(0.0,0.0,0.0,0.0)     ARGB{Float64}(0.0,0.0,0.0,0.0)\n ARGB{Float64}(0.0,0.0,0.0,0.0)     ARGB{Float64}(0.0,0.0,0.0,0.0)\n ARGB{Float64}(0.0,0.0,0.0,0.0)     ARGB{Float64}(0.0,0.0,0.0,0.0)\n ⋮                               ⋱  \n ARGB{Float64}(0.0,0.0,0.0,0.0)     ARGB{Float64}(0.0,0.0,0.0,0.0)\n ARGB{Float64}(0.0,0.0,0.0,0.0)     ARGB{Float64}(0.0,0.0,0.0,0.0)\n ARGB{Float64}(0.0,0.0,0.0,0.0)     ARGB{Float64}(0.0,0.0,0.0,0.0)\n ARGB{Float64}(0.0,0.0,0.0,0.0)  …  ARGB{Float64}(0.0,0.0,0.0,0.0)\n ARGB{Float64}(0.0,0.0,0.0,0.0)     ARGB{Float64}(0.0,0.0,0.0,0.0)\n ARGB{Float64}(0.0,0.0,0.0,0.0)     ARGB{Float64}(0.0,0.0,0.0,0.0)\n ARGB{Float64}(0.0,0.0,0.0,0.0)     ARGB{Float64}(0.0,0.0,0.0,0.0)\n ARGB{Float64}(0.0,0.0,0.0,0.0)     ARGB{Float64}(0.0,0.0,0.0,0.0)\n ARGB{Float64}(0.0,0.0,0.0,0.0)  …  ARGB{Float64}(0.0,0.0,0.0,0.0)",
      "image/png": "[encoded data removed]"
     },
     "metadata": {},
     "execution_count": 7
    }
   ],
   "cell_type": "code",
   "source": [
    "using ImageDraw\n",
    "function make_circle(sz, c::T) where T\n",
    "    # fill with transparent color to avoid black region\n",
    "    fillvalue = ARGB(c)\n",
    "    img = fill(ARGB{eltype(T)}(0., 0., 0., 0.), sz...)\n",
    "    origin = sz .÷ 2\n",
    "    r = sz .÷ 4\n",
    "    draw!(img, Ellipse(origin..., r...), fillvalue)\n",
    "    img\n",
    "end\n",
    "\n",
    "# create three circles with color red, green and blue\n",
    "red_c   = make_circle((256, 256), ARGB(1., 0., 0., 1.))\n",
    "green_c = make_circle((256, 256), ARGB(0., 1., 0., 1.))\n",
    "blue_c  = make_circle((256, 256), ARGB(0., 0., 1., 1.))\n",
    "\n",
    "mosaicview(red_c, green_c, blue_c; nrow=1)"
   ],
   "metadata": {},
   "execution_count": 7
  },
  {
   "cell_type": "markdown",
   "source": [
    "Then, shift these circles to appropriate positions, pad them to common axes, and finally composite\n",
    "using the add operation:"
   ],
   "metadata": {}
  },
  {
   "outputs": [
    {
     "output_type": "execute_result",
     "data": {
      "text/plain": "256×256 Array{ARGB{Float64},2} with eltype ARGB{Float64}:\n ARGB{Float64}(0.0,0.0,0.0,0.0)  …  ARGB{Float64}(0.0,0.0,0.0,0.0)\n ARGB{Float64}(0.0,0.0,0.0,0.0)     ARGB{Float64}(0.0,0.0,0.0,0.0)\n ARGB{Float64}(0.0,0.0,0.0,0.0)     ARGB{Float64}(0.0,0.0,0.0,0.0)\n ARGB{Float64}(0.0,0.0,0.0,0.0)     ARGB{Float64}(0.0,0.0,0.0,0.0)\n ARGB{Float64}(0.0,0.0,0.0,0.0)     ARGB{Float64}(0.0,0.0,0.0,0.0)\n ARGB{Float64}(0.0,0.0,0.0,0.0)  …  ARGB{Float64}(0.0,0.0,0.0,0.0)\n ARGB{Float64}(0.0,0.0,0.0,0.0)     ARGB{Float64}(0.0,0.0,0.0,0.0)\n ARGB{Float64}(0.0,0.0,0.0,0.0)     ARGB{Float64}(0.0,0.0,0.0,0.0)\n ARGB{Float64}(0.0,0.0,0.0,0.0)     ARGB{Float64}(0.0,0.0,0.0,0.0)\n ARGB{Float64}(0.0,0.0,0.0,0.0)     ARGB{Float64}(0.0,0.0,0.0,0.0)\n ⋮                               ⋱  ⋮\n ARGB{Float64}(0.0,0.0,0.0,0.0)     ARGB{Float64}(0.0,0.0,0.0,0.0)\n ARGB{Float64}(0.0,0.0,0.0,0.0)     ARGB{Float64}(0.0,0.0,0.0,0.0)\n ARGB{Float64}(0.0,0.0,0.0,0.0)     ARGB{Float64}(0.0,0.0,0.0,0.0)\n ARGB{Float64}(0.0,0.0,0.0,0.0)  …  ARGB{Float64}(0.0,0.0,0.0,0.0)\n ARGB{Float64}(0.0,0.0,0.0,0.0)     ARGB{Float64}(0.0,0.0,0.0,0.0)\n ARGB{Float64}(0.0,0.0,0.0,0.0)     ARGB{Float64}(0.0,0.0,0.0,0.0)\n ARGB{Float64}(0.0,0.0,0.0,0.0)     ARGB{Float64}(0.0,0.0,0.0,0.0)\n ARGB{Float64}(0.0,0.0,0.0,0.0)     ARGB{Float64}(0.0,0.0,0.0,0.0)\n ARGB{Float64}(0.0,0.0,0.0,0.0)  …  ARGB{Float64}(0.0,0.0,0.0,0.0)",
      "image/png": "[encoded data removed]"
     },
     "metadata": {},
     "execution_count": 8
    }
   ],
   "cell_type": "code",
   "source": [
    "r = size(red_c, 1) ÷ 8\n",
    "red_o   = OffsetArray(red_c,    r,  r)\n",
    "green_o = OffsetArray(green_c, -r,  0)\n",
    "blue_o  = OffsetArray(blue_c,   r, -r)\n",
    "\n",
    "color_panel = sum(paddedviews(zero(eltype(red_o)), red_o, green_o, blue_o))\n",
    "color_panel = color_panel[axes(red_c)...] # crop empty region"
   ],
   "metadata": {},
   "execution_count": 8
  },
  {
   "cell_type": "markdown",
   "source": [
    "---\n",
    "\n",
    "*This notebook was generated using [Literate.jl](https://github.com/fredrikekre/Literate.jl).*"
   ],
   "metadata": {}
  }
 ],
 "nbformat_minor": 3,
 "metadata": {
  "language_info": {
   "file_extension": ".jl",
   "mimetype": "application/julia",
   "name": "julia",
   "version": "1.6.1"
  },
  "kernelspec": {
   "name": "julia-1.6",
   "display_name": "Julia 1.6.1",
   "language": "julia"
  }
 },
 "nbformat": 4
}
