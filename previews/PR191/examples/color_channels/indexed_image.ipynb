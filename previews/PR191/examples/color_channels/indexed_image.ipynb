{
 "cells": [
  {
   "cell_type": "markdown",
   "source": [
    "This demonstration shows you how to work with [indexed\n",
    "image](https://en.wikipedia.org/wiki/Indexed_color) using\n",
    "[IndirectArrays.jl](https://github.com/JuliaArrays/IndirectArrays.jl)"
   ],
   "metadata": {}
  },
  {
   "cell_type": "markdown",
   "source": [
    "An indexed image consists of two parts: the indices and the palatte. The palatte keeps track of\n",
    "all possible pixel values of an image, while the `indices` consists of the palatte index of each\n",
    "pixel."
   ],
   "metadata": {}
  },
  {
   "outputs": [],
   "cell_type": "code",
   "source": [
    "using Images"
   ],
   "metadata": {},
   "execution_count": 1
  },
  {
   "cell_type": "markdown",
   "source": [
    "The following is a normally used representation of image, i.e., an image as an array of\n",
    "`Colorant`s."
   ],
   "metadata": {}
  },
  {
   "outputs": [
    {
     "output_type": "execute_result",
     "data": {
      "text/plain": "5×5 Array{RGB{Float64},2} with eltype RGB{Float64}:\n RGB{Float64}(0.0,0.0,0.0)  …  RGB{Float64}(1.0,1.0,1.0)\n RGB{Float64}(1.0,0.0,0.0)     RGB{Float64}(0.0,0.0,0.0)\n RGB{Float64}(0.0,1.0,0.0)     RGB{Float64}(1.0,0.0,0.0)\n RGB{Float64}(0.0,0.0,1.0)     RGB{Float64}(0.0,1.0,0.0)\n RGB{Float64}(1.0,1.0,1.0)     RGB{Float64}(0.0,0.0,1.0)",
      "image/png": "[encoded data removed]"
     },
     "metadata": {},
     "execution_count": 2
    }
   ],
   "cell_type": "code",
   "source": [
    "img = [\n",
    "    RGB(0.0, 0.0, 0.0) RGB(1.0, 0.0, 0.0) RGB(0.0, 1.0, 0.0) RGB(0.0, 0.0, 1.0) RGB(1.0, 1.0, 1.0)\n",
    "    RGB(1.0, 0.0, 0.0) RGB(0.0, 1.0, 0.0) RGB(0.0, 0.0, 1.0) RGB(1.0, 1.0, 1.0) RGB(0.0, 0.0, 0.0)\n",
    "    RGB(0.0, 1.0, 0.0) RGB(0.0, 0.0, 1.0) RGB(1.0, 1.0, 1.0) RGB(0.0, 0.0, 0.0) RGB(1.0, 0.0, 0.0)\n",
    "    RGB(0.0, 0.0, 1.0) RGB(1.0, 1.0, 1.0) RGB(0.0, 0.0, 0.0) RGB(1.0, 0.0, 0.0) RGB(0.0, 1.0, 0.0)\n",
    "    RGB(1.0, 1.0, 1.0) RGB(0.0, 0.0, 0.0) RGB(1.0, 0.0, 0.0) RGB(0.0, 1.0, 0.0) RGB(0.0, 0.0, 1.0)]"
   ],
   "metadata": {},
   "execution_count": 2
  },
  {
   "cell_type": "markdown",
   "source": [
    "Alternatively, we could save it in the indexed image format:"
   ],
   "metadata": {}
  },
  {
   "outputs": [
    {
     "output_type": "execute_result",
     "data": {
      "text/plain": "true"
     },
     "metadata": {},
     "execution_count": 3
    }
   ],
   "cell_type": "code",
   "source": [
    "indices = [1 2 3 4 5; 2 3 4 5 1; 3 4 5 1 2; 4 5 1 2 3; 5 1 2 3 4] # `i` records the pixel value `palatte[i]`\n",
    "palatte = [RGB(0.0, 0.0, 0.0), RGB(1.0, 0.0, 0.0), RGB(0.0, 1.0, 0.0), RGB(0.0, 0.0, 1.0), RGB(1.0, 1.0, 1.0)]\n",
    "\n",
    "palatte[indices] == img"
   ],
   "metadata": {},
   "execution_count": 3
  },
  {
   "cell_type": "markdown",
   "source": [
    "This is doable because it follows the Julia [indexing\n",
    "rules](https://docs.julialang.org/en/v1/manual/arrays/#man-supported-index-types) that `indices`\n",
    "is an array of scalar indices, and the dimensionality of the output is the dimensionality of the\n",
    "`indices`. For example, the following equivalence holds:"
   ],
   "metadata": {}
  },
  {
   "outputs": [
    {
     "output_type": "execute_result",
     "data": {
      "text/plain": "true"
     },
     "metadata": {},
     "execution_count": 4
    }
   ],
   "cell_type": "code",
   "source": [
    "palatte[[1, 2]] == [palatte[1], palatte[2]]\n",
    "palatte[[1 2; 2 1]] == [palatte[1] palatte[2]; palatte[2] palatte[1]]"
   ],
   "metadata": {},
   "execution_count": 4
  },
  {
   "cell_type": "markdown",
   "source": [
    "Now, let's analyze the resource usage of these two approaches. For this example, we are storing\n",
    "the data using type `Float64`, where each `Float64` number requires 8 bytes (1 byte=8bits). Hence\n",
    "the normal representation format requires `5*5*3*8 = 600` bytes storage in total. As a comparison,\n",
    "we only need `5*5*8 + 5*3*8 = 320` bytes storage if we use the indexed image format. This is why\n",
    "images with few distinct values can often be encoded more compactly as an indexed image.\n",
    "\n",
    "Although it does compress the data in this example, in real world applications, it is not always\n",
    "clear whether you should or should not use indexed image format. There are two main drawbacks of\n",
    "it:\n",
    "\n",
    "- indexed images can require more memory if `length(unique(img))` is too large.\n",
    "- indexing into an indexed image requires two `getindex` operations, so using it can be slower\n",
    "  than a direct image representation (and not amenable to SIMD vectorization). This is a typical\n",
    "  [space-time tradeoff](https://en.wikipedia.org/wiki/Space%E2%80%93time_tradeoff) case.\n",
    "\n",
    "Benchmarks are always recommended before you choose to use the indexed image format."
   ],
   "metadata": {}
  },
  {
   "cell_type": "markdown",
   "source": [
    "Using indexed image format with two seperate arrays can be inconvinient, hence\n",
    "[`IndirectArrays.jl`](https://github.com/JuliaArrays/IndirectArrays.jl) provides an array\n",
    "abstraction to union these two data:"
   ],
   "metadata": {}
  },
  {
   "outputs": [
    {
     "output_type": "execute_result",
     "data": {
      "text/plain": "true"
     },
     "metadata": {},
     "execution_count": 5
    }
   ],
   "cell_type": "code",
   "source": [
    "using IndirectArrays\n",
    "\n",
    "indexed_img = IndirectArray(indices, palatte)\n",
    "img == indexed_img"
   ],
   "metadata": {},
   "execution_count": 5
  },
  {
   "cell_type": "markdown",
   "source": [
    "Under the hook, it is just a simple struct that subtypes `AbstractArray`:\n",
    "\n",
    "```julia\n",
    "# no need to run this\n",
    "struct IndirectArray{T,N,A,V} <: AbstractArray{T,N}\n",
    "    index::A\n",
    "    values::V\n",
    "end\n",
    "```"
   ],
   "metadata": {}
  },
  {
   "outputs": [
    {
     "output_type": "execute_result",
     "data": {
      "text/plain": "(true, true)"
     },
     "metadata": {},
     "execution_count": 6
    }
   ],
   "cell_type": "code",
   "source": [
    "indexed_img.index === indices, indexed_img.values === palatte"
   ],
   "metadata": {},
   "execution_count": 6
  },
  {
   "cell_type": "markdown",
   "source": [
    "Since `IndirectArray` is just an array, common image operations are applicable to this type, for\n",
    "example:"
   ],
   "metadata": {}
  },
  {
   "outputs": [
    {
     "output_type": "execute_result",
     "data": {
      "text/plain": "10×10 Array{RGB{Float64},2} with eltype RGB{Float64}:\n RGB{Float64}(0.0,0.0,0.0)    …  RGB{Float64}(1.0,1.0,1.0)\n RGB{Float64}(0.25,0.0,0.0)      RGB{Float64}(0.75,0.75,0.75)\n RGB{Float64}(0.75,0.0,0.0)      RGB{Float64}(0.25,0.25,0.25)\n RGB{Float64}(0.75,0.25,0.0)     RGB{Float64}(0.25,0.0,0.0)\n RGB{Float64}(0.25,0.75,0.0)     RGB{Float64}(0.75,0.0,0.0)\n RGB{Float64}(0.0,0.75,0.25)  …  RGB{Float64}(0.75,0.25,0.0)\n RGB{Float64}(0.0,0.25,0.75)     RGB{Float64}(0.25,0.75,0.0)\n RGB{Float64}(0.25,0.25,1.0)     RGB{Float64}(0.0,0.75,0.25)\n RGB{Float64}(0.75,0.75,1.0)     RGB{Float64}(0.0,0.25,0.75)\n RGB{Float64}(1.0,1.0,1.0)       RGB{Float64}(0.0,0.0,1.0)",
      "image/png": "[encoded data removed]"
     },
     "metadata": {},
     "execution_count": 7
    }
   ],
   "cell_type": "code",
   "source": [
    "imresize(indexed_img; ratio=2) # no longer an IndirectArray"
   ],
   "metadata": {},
   "execution_count": 7
  },
  {
   "cell_type": "markdown",
   "source": [
    "---\n",
    "\n",
    "*This notebook was generated using [Literate.jl](https://github.com/fredrikekre/Literate.jl).*"
   ],
   "metadata": {}
  }
 ],
 "nbformat_minor": 3,
 "metadata": {
  "language_info": {
   "file_extension": ".jl",
   "mimetype": "application/julia",
   "name": "julia",
   "version": "1.6.1"
  },
  "kernelspec": {
   "name": "julia-1.6",
   "display_name": "Julia 1.6.1",
   "language": "julia"
  }
 },
 "nbformat": 4
}
